{
  "nbformat": 4,
  "nbformat_minor": 0,
  "metadata": {
    "colab": {
      "provenance": []
    },
    "kernelspec": {
      "name": "python3",
      "display_name": "Python 3"
    }
  },
  "cells": [
    {
      "cell_type": "code",
      "metadata": {
        "id": "NTQsQt8HZLRj",
        "colab": {
          "base_uri": "https://localhost:8080/"
        },
        "outputId": "19c66753-6312-42f3-bb10-749a21192238"
      },
      "source": [
        "!pip install tabula-py"
      ],
      "execution_count": null,
      "outputs": [
        {
          "output_type": "stream",
          "name": "stdout",
          "text": [
            "Looking in indexes: https://pypi.org/simple, https://us-python.pkg.dev/colab-wheels/public/simple/\n",
            "Collecting tabula-py\n",
            "  Downloading tabula_py-2.4.0-py3-none-any.whl (12.0 MB)\n",
            "\u001b[K     |████████████████████████████████| 12.0 MB 5.2 MB/s \n",
            "\u001b[?25hRequirement already satisfied: numpy in /usr/local/lib/python3.7/dist-packages (from tabula-py) (1.21.6)\n",
            "Collecting distro\n",
            "  Downloading distro-1.7.0-py3-none-any.whl (20 kB)\n",
            "Requirement already satisfied: pandas>=0.25.3 in /usr/local/lib/python3.7/dist-packages (from tabula-py) (1.3.5)\n",
            "Requirement already satisfied: pytz>=2017.3 in /usr/local/lib/python3.7/dist-packages (from pandas>=0.25.3->tabula-py) (2022.1)\n",
            "Requirement already satisfied: python-dateutil>=2.7.3 in /usr/local/lib/python3.7/dist-packages (from pandas>=0.25.3->tabula-py) (2.8.2)\n",
            "Requirement already satisfied: six>=1.5 in /usr/local/lib/python3.7/dist-packages (from python-dateutil>=2.7.3->pandas>=0.25.3->tabula-py) (1.15.0)\n",
            "Installing collected packages: distro, tabula-py\n",
            "Successfully installed distro-1.7.0 tabula-py-2.4.0\n"
          ]
        }
      ]
    },
    {
      "cell_type": "code",
      "metadata": {
        "id": "fHX61oTMZVUu"
      },
      "source": [
        "import tabula\n",
        "import pandas as pd\n",
        "import os\n",
        "from google.colab import files"
      ],
      "execution_count": null,
      "outputs": []
    },
    {
      "cell_type": "code",
      "source": [
        "df = tabula.read_pdf('/content/20220101freshsales_report.pdf',pages='all')"
      ],
      "metadata": {
        "id": "mUHHMaCHrnI-"
      },
      "execution_count": null,
      "outputs": []
    },
    {
      "cell_type": "code",
      "source": [
        "df_1 = tabula.read_pdf('/content/20220201freshsales_report.pdf',pages='all')\n",
        "df[0]=pd.concat([df_1[0],df[0]],axis=0)"
      ],
      "metadata": {
        "id": "fyCby6yNZVSD"
      },
      "execution_count": null,
      "outputs": []
    },
    {
      "cell_type": "code",
      "source": [
        "df[0].head()"
      ],
      "metadata": {
        "colab": {
          "base_uri": "https://localhost:8080/",
          "height": 441
        },
        "id": "LZ1D5bc8vmdN",
        "outputId": "8d15bc49-d3b8-4965-a97b-4a7bcdc0cfc4"
      },
      "execution_count": null,
      "outputs": [
        {
          "output_type": "execute_result",
          "data": {
            "text/plain": [
              "   SalesAccount : id             Account : Name Account : Parent\\raccount  \\\n",
              "0         5000267315    Aman Resorts and Hotels                       NaN   \n",
              "1         5000272144  PAVILIONS RESORTS LIMITED                       NaN   \n",
              "2         5002715373         Eastin Hanoi Hotel   Absolute Hotel Services   \n",
              "0         5000267315    Aman Resorts and Hotels                       NaN   \n",
              "1         5002715373         Eastin Hanoi Hotel   Absolute Hotel Services   \n",
              "\n",
              "        Account : Products Account : Academy\\ruser  Account : Number of\\ruser  \\\n",
              "0    Infor DEPM,SunSystems                     Yes                      250.0   \n",
              "1         Other,SunSystems                     Yes                        3.0   \n",
              "2  SunSystems,TRG Products                     Yes                        4.0   \n",
              "0    Infor DEPM,SunSystems                     Yes                      250.0   \n",
              "1  SunSystems,TRG Products                     Yes                        4.0   \n",
              "\n",
              "  Account : Subscription\\rend date Account : Client code  \n",
              "0                       30-06-2022               27DA025  \n",
              "1                       28-02-2022               27DP013  \n",
              "2                       12-09-2022               131E021  \n",
              "0                       30-06-2022               27DA025  \n",
              "1                       12-09-2022               131E021  "
            ],
            "text/html": [
              "\n",
              "  <div id=\"df-c5c3948d-d6d9-423b-84d6-79362c184ff6\">\n",
              "    <div class=\"colab-df-container\">\n",
              "      <div>\n",
              "<style scoped>\n",
              "    .dataframe tbody tr th:only-of-type {\n",
              "        vertical-align: middle;\n",
              "    }\n",
              "\n",
              "    .dataframe tbody tr th {\n",
              "        vertical-align: top;\n",
              "    }\n",
              "\n",
              "    .dataframe thead th {\n",
              "        text-align: right;\n",
              "    }\n",
              "</style>\n",
              "<table border=\"1\" class=\"dataframe\">\n",
              "  <thead>\n",
              "    <tr style=\"text-align: right;\">\n",
              "      <th></th>\n",
              "      <th>SalesAccount : id</th>\n",
              "      <th>Account : Name</th>\n",
              "      <th>Account : Parent\\raccount</th>\n",
              "      <th>Account : Products</th>\n",
              "      <th>Account : Academy\\ruser</th>\n",
              "      <th>Account : Number of\\ruser</th>\n",
              "      <th>Account : Subscription\\rend date</th>\n",
              "      <th>Account : Client code</th>\n",
              "    </tr>\n",
              "  </thead>\n",
              "  <tbody>\n",
              "    <tr>\n",
              "      <th>0</th>\n",
              "      <td>5000267315</td>\n",
              "      <td>Aman Resorts and Hotels</td>\n",
              "      <td>NaN</td>\n",
              "      <td>Infor DEPM,SunSystems</td>\n",
              "      <td>Yes</td>\n",
              "      <td>250.0</td>\n",
              "      <td>30-06-2022</td>\n",
              "      <td>27DA025</td>\n",
              "    </tr>\n",
              "    <tr>\n",
              "      <th>1</th>\n",
              "      <td>5000272144</td>\n",
              "      <td>PAVILIONS RESORTS LIMITED</td>\n",
              "      <td>NaN</td>\n",
              "      <td>Other,SunSystems</td>\n",
              "      <td>Yes</td>\n",
              "      <td>3.0</td>\n",
              "      <td>28-02-2022</td>\n",
              "      <td>27DP013</td>\n",
              "    </tr>\n",
              "    <tr>\n",
              "      <th>2</th>\n",
              "      <td>5002715373</td>\n",
              "      <td>Eastin Hanoi Hotel</td>\n",
              "      <td>Absolute Hotel Services</td>\n",
              "      <td>SunSystems,TRG Products</td>\n",
              "      <td>Yes</td>\n",
              "      <td>4.0</td>\n",
              "      <td>12-09-2022</td>\n",
              "      <td>131E021</td>\n",
              "    </tr>\n",
              "    <tr>\n",
              "      <th>0</th>\n",
              "      <td>5000267315</td>\n",
              "      <td>Aman Resorts and Hotels</td>\n",
              "      <td>NaN</td>\n",
              "      <td>Infor DEPM,SunSystems</td>\n",
              "      <td>Yes</td>\n",
              "      <td>250.0</td>\n",
              "      <td>30-06-2022</td>\n",
              "      <td>27DA025</td>\n",
              "    </tr>\n",
              "    <tr>\n",
              "      <th>1</th>\n",
              "      <td>5002715373</td>\n",
              "      <td>Eastin Hanoi Hotel</td>\n",
              "      <td>Absolute Hotel Services</td>\n",
              "      <td>SunSystems,TRG Products</td>\n",
              "      <td>Yes</td>\n",
              "      <td>4.0</td>\n",
              "      <td>12-09-2022</td>\n",
              "      <td>131E021</td>\n",
              "    </tr>\n",
              "  </tbody>\n",
              "</table>\n",
              "</div>\n",
              "      <button class=\"colab-df-convert\" onclick=\"convertToInteractive('df-c5c3948d-d6d9-423b-84d6-79362c184ff6')\"\n",
              "              title=\"Convert this dataframe to an interactive table.\"\n",
              "              style=\"display:none;\">\n",
              "        \n",
              "  <svg xmlns=\"http://www.w3.org/2000/svg\" height=\"24px\"viewBox=\"0 0 24 24\"\n",
              "       width=\"24px\">\n",
              "    <path d=\"M0 0h24v24H0V0z\" fill=\"none\"/>\n",
              "    <path d=\"M18.56 5.44l.94 2.06.94-2.06 2.06-.94-2.06-.94-.94-2.06-.94 2.06-2.06.94zm-11 1L8.5 8.5l.94-2.06 2.06-.94-2.06-.94L8.5 2.5l-.94 2.06-2.06.94zm10 10l.94 2.06.94-2.06 2.06-.94-2.06-.94-.94-2.06-.94 2.06-2.06.94z\"/><path d=\"M17.41 7.96l-1.37-1.37c-.4-.4-.92-.59-1.43-.59-.52 0-1.04.2-1.43.59L10.3 9.45l-7.72 7.72c-.78.78-.78 2.05 0 2.83L4 21.41c.39.39.9.59 1.41.59.51 0 1.02-.2 1.41-.59l7.78-7.78 2.81-2.81c.8-.78.8-2.07 0-2.86zM5.41 20L4 18.59l7.72-7.72 1.47 1.35L5.41 20z\"/>\n",
              "  </svg>\n",
              "      </button>\n",
              "      \n",
              "  <style>\n",
              "    .colab-df-container {\n",
              "      display:flex;\n",
              "      flex-wrap:wrap;\n",
              "      gap: 12px;\n",
              "    }\n",
              "\n",
              "    .colab-df-convert {\n",
              "      background-color: #E8F0FE;\n",
              "      border: none;\n",
              "      border-radius: 50%;\n",
              "      cursor: pointer;\n",
              "      display: none;\n",
              "      fill: #1967D2;\n",
              "      height: 32px;\n",
              "      padding: 0 0 0 0;\n",
              "      width: 32px;\n",
              "    }\n",
              "\n",
              "    .colab-df-convert:hover {\n",
              "      background-color: #E2EBFA;\n",
              "      box-shadow: 0px 1px 2px rgba(60, 64, 67, 0.3), 0px 1px 3px 1px rgba(60, 64, 67, 0.15);\n",
              "      fill: #174EA6;\n",
              "    }\n",
              "\n",
              "    [theme=dark] .colab-df-convert {\n",
              "      background-color: #3B4455;\n",
              "      fill: #D2E3FC;\n",
              "    }\n",
              "\n",
              "    [theme=dark] .colab-df-convert:hover {\n",
              "      background-color: #434B5C;\n",
              "      box-shadow: 0px 1px 3px 1px rgba(0, 0, 0, 0.15);\n",
              "      filter: drop-shadow(0px 1px 2px rgba(0, 0, 0, 0.3));\n",
              "      fill: #FFFFFF;\n",
              "    }\n",
              "  </style>\n",
              "\n",
              "      <script>\n",
              "        const buttonEl =\n",
              "          document.querySelector('#df-c5c3948d-d6d9-423b-84d6-79362c184ff6 button.colab-df-convert');\n",
              "        buttonEl.style.display =\n",
              "          google.colab.kernel.accessAllowed ? 'block' : 'none';\n",
              "\n",
              "        async function convertToInteractive(key) {\n",
              "          const element = document.querySelector('#df-c5c3948d-d6d9-423b-84d6-79362c184ff6');\n",
              "          const dataTable =\n",
              "            await google.colab.kernel.invokeFunction('convertToInteractive',\n",
              "                                                     [key], {});\n",
              "          if (!dataTable) return;\n",
              "\n",
              "          const docLinkHtml = 'Like what you see? Visit the ' +\n",
              "            '<a target=\"_blank\" href=https://colab.research.google.com/notebooks/data_table.ipynb>data table notebook</a>'\n",
              "            + ' to learn more about interactive tables.';\n",
              "          element.innerHTML = '';\n",
              "          dataTable['output_type'] = 'display_data';\n",
              "          await google.colab.output.renderOutput(dataTable, element);\n",
              "          const docLink = document.createElement('div');\n",
              "          docLink.innerHTML = docLinkHtml;\n",
              "          element.appendChild(docLink);\n",
              "        }\n",
              "      </script>\n",
              "    </div>\n",
              "  </div>\n",
              "  "
            ]
          },
          "metadata": {},
          "execution_count": 5
        }
      ]
    },
    {
      "cell_type": "code",
      "source": [
        "df[0].columns"
      ],
      "metadata": {
        "id": "e3mo1YM1rq9A",
        "outputId": "4135d6cc-e5c9-4692-b78c-8265cfaf898f",
        "colab": {
          "base_uri": "https://localhost:8080/"
        }
      },
      "execution_count": null,
      "outputs": [
        {
          "output_type": "execute_result",
          "data": {
            "text/plain": [
              "Index(['SalesAccount : id', 'Account : Name', 'Account : Parent\\raccount',\n",
              "       'Account : Products', 'Account : Academy\\ruser',\n",
              "       'Account : Number of\\ruser', 'Account : Subscription\\rend date',\n",
              "       'Account : Client code'],\n",
              "      dtype='object')"
            ]
          },
          "metadata": {},
          "execution_count": 6
        }
      ]
    },
    {
      "cell_type": "code",
      "source": [
        "def convert_date_time(Str):\n",
        "  dd=Str[0:2]\n",
        "  MM=Str[3:5]\n",
        "  yyyy=Str[6:10]\n",
        "  Str=yyyy+'-'+MM+'-'+dd\n",
        "  return Str\n",
        "listi=[]\n",
        "for i in (df[0]['Account : Subscription\\rend date']):\n",
        "  listi.append(convert_date_time(i))\n",
        "df[0]['Account : Subscription\\rend date']=listi"
      ],
      "metadata": {
        "id": "kva959nyv3HW"
      },
      "execution_count": null,
      "outputs": []
    },
    {
      "cell_type": "code",
      "source": [
        "import datetime\n",
        "tday=datetime.date.today()\n",
        "tdelta=datetime.timedelta(days=180)\n",
        "pd.to_datetime(tday,format='%Y-%m-%d')"
      ],
      "metadata": {
        "id": "nz0jqvkM3-WN",
        "outputId": "6045673a-207f-4997-8a85-4a6ffdde73bd",
        "colab": {
          "base_uri": "https://localhost:8080/"
        }
      },
      "execution_count": null,
      "outputs": [
        {
          "output_type": "execute_result",
          "data": {
            "text/plain": [
              "Timestamp('2022-08-04 00:00:00')"
            ]
          },
          "metadata": {},
          "execution_count": 8
        }
      ]
    },
    {
      "cell_type": "code",
      "source": [
        "df[0][df[0].columns[6]]=pd.to_datetime(df[0][df[0].columns[6]],format='%Y-%m-%d')"
      ],
      "metadata": {
        "id": "el4YcZoF1bNw"
      },
      "execution_count": null,
      "outputs": []
    },
    {
      "cell_type": "code",
      "source": [
        "df[0]['Subscription end date in 6 months']=[1]*(len(df[0][df[0].columns[6]]))"
      ],
      "metadata": {
        "id": "Rd3a-UUsVI4m"
      },
      "execution_count": null,
      "outputs": []
    },
    {
      "cell_type": "code",
      "source": [
        "listi=[]\n",
        "for i in df[0][df[0].columns[6]]:\n",
        "  if (tday-tdelta) < i and (tday+tdelta) > i:\n",
        "    listi.append(1)\n",
        "  else:\n",
        "    listi.append(0)\n",
        "df[0]['Subscription end date in 6 months']=listi"
      ],
      "metadata": {
        "id": "ZPUY_nc9Tn9h"
      },
      "execution_count": null,
      "outputs": []
    },
    {
      "cell_type": "code",
      "source": [
        "df[0]['Subscription end date in 6 months']"
      ],
      "metadata": {
        "id": "wUyN-qjHWbov",
        "outputId": "823e3617-9096-48a8-e6e4-a4c8083fac88",
        "colab": {
          "base_uri": "https://localhost:8080/"
        }
      },
      "execution_count": null,
      "outputs": [
        {
          "output_type": "execute_result",
          "data": {
            "text/plain": [
              "0    1\n",
              "1    1\n",
              "2    1\n",
              "0    1\n",
              "1    1\n",
              "Name: Subscription end date in 6 months, dtype: int64"
            ]
          },
          "metadata": {},
          "execution_count": 12
        }
      ]
    },
    {
      "cell_type": "code",
      "source": [
        "filtDate=(df[0]['Subscription end date in 6 months']==1)\n",
        "df_filtDate=df[0].loc[filtDate]\n",
        "df_filtDate"
      ],
      "metadata": {
        "id": "V5i9o7H4Wlea",
        "outputId": "75901c12-5f17-4cd9-8a78-7fa210ab0f34",
        "colab": {
          "base_uri": "https://localhost:8080/",
          "height": 496
        }
      },
      "execution_count": null,
      "outputs": [
        {
          "output_type": "execute_result",
          "data": {
            "text/plain": [
              "   SalesAccount : id             Account : Name Account : Parent\\raccount  \\\n",
              "0         5000267315    Aman Resorts and Hotels                       NaN   \n",
              "1         5000272144  PAVILIONS RESORTS LIMITED                       NaN   \n",
              "2         5002715373         Eastin Hanoi Hotel   Absolute Hotel Services   \n",
              "0         5000267315    Aman Resorts and Hotels                       NaN   \n",
              "1         5002715373         Eastin Hanoi Hotel   Absolute Hotel Services   \n",
              "\n",
              "        Account : Products Account : Academy\\ruser  Account : Number of\\ruser  \\\n",
              "0    Infor DEPM,SunSystems                     Yes                      250.0   \n",
              "1         Other,SunSystems                     Yes                        3.0   \n",
              "2  SunSystems,TRG Products                     Yes                        4.0   \n",
              "0    Infor DEPM,SunSystems                     Yes                      250.0   \n",
              "1  SunSystems,TRG Products                     Yes                        4.0   \n",
              "\n",
              "  Account : Subscription\\rend date Account : Client code  \\\n",
              "0                       2022-06-30               27DA025   \n",
              "1                       2022-02-28               27DP013   \n",
              "2                       2022-09-12               131E021   \n",
              "0                       2022-06-30               27DA025   \n",
              "1                       2022-09-12               131E021   \n",
              "\n",
              "   Subscription end date in 6 months  \n",
              "0                                  1  \n",
              "1                                  1  \n",
              "2                                  1  \n",
              "0                                  1  \n",
              "1                                  1  "
            ],
            "text/html": [
              "\n",
              "  <div id=\"df-3e0691e6-836c-443d-8b65-b5b7878c75a2\">\n",
              "    <div class=\"colab-df-container\">\n",
              "      <div>\n",
              "<style scoped>\n",
              "    .dataframe tbody tr th:only-of-type {\n",
              "        vertical-align: middle;\n",
              "    }\n",
              "\n",
              "    .dataframe tbody tr th {\n",
              "        vertical-align: top;\n",
              "    }\n",
              "\n",
              "    .dataframe thead th {\n",
              "        text-align: right;\n",
              "    }\n",
              "</style>\n",
              "<table border=\"1\" class=\"dataframe\">\n",
              "  <thead>\n",
              "    <tr style=\"text-align: right;\">\n",
              "      <th></th>\n",
              "      <th>SalesAccount : id</th>\n",
              "      <th>Account : Name</th>\n",
              "      <th>Account : Parent\\raccount</th>\n",
              "      <th>Account : Products</th>\n",
              "      <th>Account : Academy\\ruser</th>\n",
              "      <th>Account : Number of\\ruser</th>\n",
              "      <th>Account : Subscription\\rend date</th>\n",
              "      <th>Account : Client code</th>\n",
              "      <th>Subscription end date in 6 months</th>\n",
              "    </tr>\n",
              "  </thead>\n",
              "  <tbody>\n",
              "    <tr>\n",
              "      <th>0</th>\n",
              "      <td>5000267315</td>\n",
              "      <td>Aman Resorts and Hotels</td>\n",
              "      <td>NaN</td>\n",
              "      <td>Infor DEPM,SunSystems</td>\n",
              "      <td>Yes</td>\n",
              "      <td>250.0</td>\n",
              "      <td>2022-06-30</td>\n",
              "      <td>27DA025</td>\n",
              "      <td>1</td>\n",
              "    </tr>\n",
              "    <tr>\n",
              "      <th>1</th>\n",
              "      <td>5000272144</td>\n",
              "      <td>PAVILIONS RESORTS LIMITED</td>\n",
              "      <td>NaN</td>\n",
              "      <td>Other,SunSystems</td>\n",
              "      <td>Yes</td>\n",
              "      <td>3.0</td>\n",
              "      <td>2022-02-28</td>\n",
              "      <td>27DP013</td>\n",
              "      <td>1</td>\n",
              "    </tr>\n",
              "    <tr>\n",
              "      <th>2</th>\n",
              "      <td>5002715373</td>\n",
              "      <td>Eastin Hanoi Hotel</td>\n",
              "      <td>Absolute Hotel Services</td>\n",
              "      <td>SunSystems,TRG Products</td>\n",
              "      <td>Yes</td>\n",
              "      <td>4.0</td>\n",
              "      <td>2022-09-12</td>\n",
              "      <td>131E021</td>\n",
              "      <td>1</td>\n",
              "    </tr>\n",
              "    <tr>\n",
              "      <th>0</th>\n",
              "      <td>5000267315</td>\n",
              "      <td>Aman Resorts and Hotels</td>\n",
              "      <td>NaN</td>\n",
              "      <td>Infor DEPM,SunSystems</td>\n",
              "      <td>Yes</td>\n",
              "      <td>250.0</td>\n",
              "      <td>2022-06-30</td>\n",
              "      <td>27DA025</td>\n",
              "      <td>1</td>\n",
              "    </tr>\n",
              "    <tr>\n",
              "      <th>1</th>\n",
              "      <td>5002715373</td>\n",
              "      <td>Eastin Hanoi Hotel</td>\n",
              "      <td>Absolute Hotel Services</td>\n",
              "      <td>SunSystems,TRG Products</td>\n",
              "      <td>Yes</td>\n",
              "      <td>4.0</td>\n",
              "      <td>2022-09-12</td>\n",
              "      <td>131E021</td>\n",
              "      <td>1</td>\n",
              "    </tr>\n",
              "  </tbody>\n",
              "</table>\n",
              "</div>\n",
              "      <button class=\"colab-df-convert\" onclick=\"convertToInteractive('df-3e0691e6-836c-443d-8b65-b5b7878c75a2')\"\n",
              "              title=\"Convert this dataframe to an interactive table.\"\n",
              "              style=\"display:none;\">\n",
              "        \n",
              "  <svg xmlns=\"http://www.w3.org/2000/svg\" height=\"24px\"viewBox=\"0 0 24 24\"\n",
              "       width=\"24px\">\n",
              "    <path d=\"M0 0h24v24H0V0z\" fill=\"none\"/>\n",
              "    <path d=\"M18.56 5.44l.94 2.06.94-2.06 2.06-.94-2.06-.94-.94-2.06-.94 2.06-2.06.94zm-11 1L8.5 8.5l.94-2.06 2.06-.94-2.06-.94L8.5 2.5l-.94 2.06-2.06.94zm10 10l.94 2.06.94-2.06 2.06-.94-2.06-.94-.94-2.06-.94 2.06-2.06.94z\"/><path d=\"M17.41 7.96l-1.37-1.37c-.4-.4-.92-.59-1.43-.59-.52 0-1.04.2-1.43.59L10.3 9.45l-7.72 7.72c-.78.78-.78 2.05 0 2.83L4 21.41c.39.39.9.59 1.41.59.51 0 1.02-.2 1.41-.59l7.78-7.78 2.81-2.81c.8-.78.8-2.07 0-2.86zM5.41 20L4 18.59l7.72-7.72 1.47 1.35L5.41 20z\"/>\n",
              "  </svg>\n",
              "      </button>\n",
              "      \n",
              "  <style>\n",
              "    .colab-df-container {\n",
              "      display:flex;\n",
              "      flex-wrap:wrap;\n",
              "      gap: 12px;\n",
              "    }\n",
              "\n",
              "    .colab-df-convert {\n",
              "      background-color: #E8F0FE;\n",
              "      border: none;\n",
              "      border-radius: 50%;\n",
              "      cursor: pointer;\n",
              "      display: none;\n",
              "      fill: #1967D2;\n",
              "      height: 32px;\n",
              "      padding: 0 0 0 0;\n",
              "      width: 32px;\n",
              "    }\n",
              "\n",
              "    .colab-df-convert:hover {\n",
              "      background-color: #E2EBFA;\n",
              "      box-shadow: 0px 1px 2px rgba(60, 64, 67, 0.3), 0px 1px 3px 1px rgba(60, 64, 67, 0.15);\n",
              "      fill: #174EA6;\n",
              "    }\n",
              "\n",
              "    [theme=dark] .colab-df-convert {\n",
              "      background-color: #3B4455;\n",
              "      fill: #D2E3FC;\n",
              "    }\n",
              "\n",
              "    [theme=dark] .colab-df-convert:hover {\n",
              "      background-color: #434B5C;\n",
              "      box-shadow: 0px 1px 3px 1px rgba(0, 0, 0, 0.15);\n",
              "      filter: drop-shadow(0px 1px 2px rgba(0, 0, 0, 0.3));\n",
              "      fill: #FFFFFF;\n",
              "    }\n",
              "  </style>\n",
              "\n",
              "      <script>\n",
              "        const buttonEl =\n",
              "          document.querySelector('#df-3e0691e6-836c-443d-8b65-b5b7878c75a2 button.colab-df-convert');\n",
              "        buttonEl.style.display =\n",
              "          google.colab.kernel.accessAllowed ? 'block' : 'none';\n",
              "\n",
              "        async function convertToInteractive(key) {\n",
              "          const element = document.querySelector('#df-3e0691e6-836c-443d-8b65-b5b7878c75a2');\n",
              "          const dataTable =\n",
              "            await google.colab.kernel.invokeFunction('convertToInteractive',\n",
              "                                                     [key], {});\n",
              "          if (!dataTable) return;\n",
              "\n",
              "          const docLinkHtml = 'Like what you see? Visit the ' +\n",
              "            '<a target=\"_blank\" href=https://colab.research.google.com/notebooks/data_table.ipynb>data table notebook</a>'\n",
              "            + ' to learn more about interactive tables.';\n",
              "          element.innerHTML = '';\n",
              "          dataTable['output_type'] = 'display_data';\n",
              "          await google.colab.output.renderOutput(dataTable, element);\n",
              "          const docLink = document.createElement('div');\n",
              "          docLink.innerHTML = docLinkHtml;\n",
              "          element.appendChild(docLink);\n",
              "        }\n",
              "      </script>\n",
              "    </div>\n",
              "  </div>\n",
              "  "
            ]
          },
          "metadata": {},
          "execution_count": 13
        }
      ]
    },
    {
      "cell_type": "code",
      "source": [
        "df[0]['SalesAccount : id'].value_counts()"
      ],
      "metadata": {
        "id": "gjysXQSAvGGF",
        "outputId": "3892c365-9168-4efc-82a4-220fba5dc05a",
        "colab": {
          "base_uri": "https://localhost:8080/"
        }
      },
      "execution_count": null,
      "outputs": [
        {
          "output_type": "execute_result",
          "data": {
            "text/plain": [
              "5000267315    2\n",
              "5002715373    2\n",
              "5000272144    1\n",
              "Name: SalesAccount : id, dtype: int64"
            ]
          },
          "metadata": {},
          "execution_count": 14
        }
      ]
    },
    {
      "cell_type": "code",
      "source": [
        "dfCountSalesaccountId=df[0].groupby('SalesAccount : id').size().reset_index(name='Count')"
      ],
      "metadata": {
        "id": "dMaOi5JihyYP"
      },
      "execution_count": null,
      "outputs": []
    },
    {
      "cell_type": "code",
      "source": [
        "listNewSalesAccountId=(dfCountSalesaccountId['Count']==1)\n",
        "listNewSalesAccountId=list(dfCountSalesaccountId.loc[listNewSalesAccountId]['SalesAccount : id'])\n",
        "listNewSalesAccountId"
      ],
      "metadata": {
        "id": "zkqoUUYwiFD4",
        "outputId": "6ff5468d-3c50-465b-cd78-41a6f23bdb11",
        "colab": {
          "base_uri": "https://localhost:8080/"
        }
      },
      "execution_count": null,
      "outputs": [
        {
          "output_type": "execute_result",
          "data": {
            "text/plain": [
              "[5000272144]"
            ]
          },
          "metadata": {},
          "execution_count": 16
        }
      ]
    },
    {
      "cell_type": "code",
      "source": [
        "filtNewSalesAccountId=df[0]['SalesAccount : id'].isin(listNewSalesAccountId)\n",
        "df_filtNewSalesAccountId=df[0].loc[filtNewSalesAccountId]"
      ],
      "metadata": {
        "id": "e2oE-ucymM_i"
      },
      "execution_count": null,
      "outputs": []
    },
    {
      "cell_type": "code",
      "source": [
        "df[0].to_excel('output_1.xlsx')\n",
        "df_filtDate.to_excel('output_2.xlsx')\n",
        "df[0].loc[filtNewSalesAccountId].to_excel('output_3.xlsx')\n"
      ],
      "metadata": {
        "id": "aJ52_jsRpM0q"
      },
      "execution_count": null,
      "outputs": []
    },
    {
      "cell_type": "code",
      "source": [],
      "metadata": {
        "id": "y-2D_hiTnYWL"
      },
      "execution_count": null,
      "outputs": []
    }
  ]
}